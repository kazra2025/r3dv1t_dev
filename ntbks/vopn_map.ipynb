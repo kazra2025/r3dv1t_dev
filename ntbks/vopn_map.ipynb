{
 "cells": [
  {
   "cell_type": "code",
   "execution_count": 1,
   "id": "76f8d177-112e-4122-9889-9ecd58680566",
   "metadata": {},
   "outputs": [],
   "source": [
    "import os, io, random\n",
    "import sys\n",
    "import time\n",
    "import json\n",
    "from pathlib import Path\n",
    "import subprocess as sp\n",
    "\n",
    "import base64 as b64\n",
    "import struct\n",
    "\n",
    "import hashlib\n",
    "import hmac\n",
    "import enum"
   ]
  },
  {
   "cell_type": "code",
   "execution_count": 2,
   "id": "23a719dd-cff2-4e06-9dac-f4d85cb03d0c",
   "metadata": {},
   "outputs": [
    {
     "name": "stdout",
     "output_type": "stream",
     "text": [
      "repo_root_path:                 /home/lu/wsl_home/gh_kazra2025/r3dv1t_dev\n",
      "libr3dv1t_pkg_search_path_str:  /home/lu/wsl_home/gh_kazra2025/r3dv1t_dev/src\n"
     ]
    }
   ],
   "source": [
    "repo_root_path = Path(sp.check_output([\"git\", \"rev-parse\", \"--show-toplevel\"], text=True).strip()).resolve()\n",
    "libr3dv1t_pkg_search_path_str = str(repo_root_path / 'src')\n",
    "\n",
    "print(f\"repo_root_path:                 {repo_root_path}\")\n",
    "print(f\"libr3dv1t_pkg_search_path_str:  {libr3dv1t_pkg_search_path_str}\")\n",
    "\n",
    "if libr3dv1t_pkg_search_path_str not in sys.path:\n",
    "    sys.path.append(libr3dv1t_pkg_search_path_str)"
   ]
  },
  {
   "cell_type": "code",
   "execution_count": 4,
   "id": "56239d6b-3a27-49b0-a5d4-c6f9889ea0d1",
   "metadata": {},
   "outputs": [],
   "source": [
    "# from libr3dv1t import wire_toolz as wtz\n",
    "from libr3dv1t.central_config import default_rvcc as _rvcc\n",
    "from libr3dv1t.krypt_utilz import kdf\n",
    "from libr3dv1t.krypt_utilz import nonce_gen\n",
    "from libr3dv1t import typedefs as tdf\n",
    "from libr3dv1t.utilz.vopn_map import VOPNMap"
   ]
  },
  {
   "cell_type": "code",
   "execution_count": null,
   "id": "723dff3e-9647-49b6-b504-217827ef6e0c",
   "metadata": {},
   "outputs": [],
   "source": []
  },
  {
   "cell_type": "code",
   "execution_count": null,
   "id": "3f89787e-cdf7-43e0-aec1-bb26da869da9",
   "metadata": {},
   "outputs": [],
   "source": []
  },
  {
   "cell_type": "code",
   "execution_count": 13,
   "id": "4bf7957e-7d8b-4c52-945c-bb6acac16fa2",
   "metadata": {},
   "outputs": [],
   "source": [
    "vopn_map = VOPNMap()\n",
    "\n",
    "vopn_map.upsert_vopn('aaa.txt', 'oid1')\n",
    "vopn_map.upsert_vopn('bbb.txt', 'oid2')\n",
    "vopn_map.upsert_vopn('aaa.txt', 'oid3')\n"
   ]
  },
  {
   "cell_type": "code",
   "execution_count": 14,
   "id": "d8227c96-ba3e-42d5-8048-968380822636",
   "metadata": {},
   "outputs": [],
   "source": [
    "assert vopn_map.get_oid('aaa.txt') == 'oid3'"
   ]
  },
  {
   "cell_type": "code",
   "execution_count": 15,
   "id": "e44d6439-dcef-4009-9469-52c2323f888b",
   "metadata": {},
   "outputs": [],
   "source": [
    "assert vopn_map.get_oid('bbb.txt') == 'oid2'"
   ]
  },
  {
   "cell_type": "code",
   "execution_count": 16,
   "id": "aadb91da-6ebe-4633-92f1-44d66464d52b",
   "metadata": {},
   "outputs": [],
   "source": [
    "assert vopn_map.get_vopn('oid3') == 'aaa.txt'"
   ]
  },
  {
   "cell_type": "code",
   "execution_count": 17,
   "id": "d2f052ce-82dc-4231-bdbb-6727a04fdefd",
   "metadata": {},
   "outputs": [],
   "source": [
    "assert vopn_map.get_vopn('oid2') == 'bbb.txt'"
   ]
  },
  {
   "cell_type": "code",
   "execution_count": null,
   "id": "038b9118-6dba-4c62-b07d-9e4e144043f2",
   "metadata": {},
   "outputs": [],
   "source": []
  },
  {
   "cell_type": "code",
   "execution_count": null,
   "id": "bd1551ac-f3d6-4136-bb6a-fd49db4b06b3",
   "metadata": {},
   "outputs": [],
   "source": []
  },
  {
   "cell_type": "code",
   "execution_count": null,
   "id": "6a99312e-d53e-4a46-ba86-07183ee94ed7",
   "metadata": {},
   "outputs": [],
   "source": []
  },
  {
   "cell_type": "code",
   "execution_count": null,
   "id": "6e93d26a-359d-4cc0-b9f0-4f69aa05674e",
   "metadata": {},
   "outputs": [],
   "source": []
  },
  {
   "cell_type": "code",
   "execution_count": null,
   "id": "28f1e649-808a-48d2-8604-99d635085c7c",
   "metadata": {},
   "outputs": [],
   "source": []
  },
  {
   "cell_type": "code",
   "execution_count": null,
   "id": "4a6bedc0-909f-4658-b961-59f3822c8f46",
   "metadata": {},
   "outputs": [],
   "source": []
  },
  {
   "cell_type": "code",
   "execution_count": null,
   "id": "c954d69e-9013-48b9-bca4-ae5bcc6568c6",
   "metadata": {},
   "outputs": [],
   "source": []
  },
  {
   "cell_type": "code",
   "execution_count": null,
   "id": "72e60859-4924-4048-a249-ad1c6a9b3f45",
   "metadata": {},
   "outputs": [],
   "source": []
  },
  {
   "cell_type": "code",
   "execution_count": null,
   "id": "eeaabb87-02c7-47fa-97d2-b66759a0b752",
   "metadata": {},
   "outputs": [],
   "source": []
  },
  {
   "cell_type": "code",
   "execution_count": null,
   "id": "da529cfc-806b-434c-a543-a925993dc06e",
   "metadata": {},
   "outputs": [],
   "source": []
  },
  {
   "cell_type": "code",
   "execution_count": null,
   "id": "2e82673a-92f5-430f-ae70-510f2223df48",
   "metadata": {},
   "outputs": [],
   "source": []
  },
  {
   "cell_type": "code",
   "execution_count": null,
   "id": "e143a35f-84a4-46d5-bb9c-5f3a0e1773cb",
   "metadata": {},
   "outputs": [],
   "source": []
  },
  {
   "cell_type": "code",
   "execution_count": null,
   "id": "19c24ad8-c46e-49d1-a8aa-a11fc1c137be",
   "metadata": {},
   "outputs": [],
   "source": []
  },
  {
   "cell_type": "code",
   "execution_count": null,
   "id": "762411ee-a629-4ab7-b42e-e66f83390ceb",
   "metadata": {},
   "outputs": [],
   "source": []
  },
  {
   "cell_type": "code",
   "execution_count": null,
   "id": "fcea5c48-09c6-47c7-ba80-9498206e7618",
   "metadata": {},
   "outputs": [],
   "source": []
  },
  {
   "cell_type": "code",
   "execution_count": null,
   "id": "e79b7ae5-610a-4719-b309-21c23df07ca1",
   "metadata": {},
   "outputs": [],
   "source": []
  }
 ],
 "metadata": {
  "kernelspec": {
   "display_name": "Python 3 (ipykernel)",
   "language": "python",
   "name": "python3"
  },
  "language_info": {
   "codemirror_mode": {
    "name": "ipython",
    "version": 3
   },
   "file_extension": ".py",
   "mimetype": "text/x-python",
   "name": "python",
   "nbconvert_exporter": "python",
   "pygments_lexer": "ipython3",
   "version": "3.12.3"
  }
 },
 "nbformat": 4,
 "nbformat_minor": 5
}
